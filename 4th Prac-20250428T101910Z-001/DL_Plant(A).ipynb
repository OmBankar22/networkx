{
 "cells": [
  {
   "cell_type": "code",
   "execution_count": null,
   "id": "367d3011-f607-4194-8032-ad1e5e958cbb",
   "metadata": {},
   "outputs": [],
   "source": [
    "import numpy as np\n",
    "import tensorflow as tf"
   ]
  },
  {
   "cell_type": "code",
   "execution_count": 2,
   "id": "abccc6a9-a7b8-42cc-ad95-44940cef9c03",
   "metadata": {},
   "outputs": [],
   "source": [
    "from tensorflow.keras import Sequential\n",
    "from tensorflow.keras.layers import Conv2D,MaxPooling2D,Dropout,Dense,Rescaling,Flatten"
   ]
  },
  {
   "cell_type": "code",
   "execution_count": null,
   "id": "03a99cf3-fa30-4345-9035-f7ff199f3ae7",
   "metadata": {},
   "outputs": [
    {
     "name": "stdout",
     "output_type": "stream",
     "text": [
      "Found 20641 files belonging to 15 classes.\n",
      "Using 16513 files for training.\n",
      "Found 20641 files belonging to 15 classes.\n",
      "Using 4128 files for validation.\n"
     ]
    }
   ],
   "source": [
    "data_dir = 'PlantVillage-20250503T083021Z-001/PlantVillage'\n",
    "train_set = tf.keras.utils.image_dataset_from_directory(\n",
    "    data_dir,\n",
    "    validation_split = 0.2,\n",
    "    subset = 'training',\n",
    "    seed = 123,\n",
    "    image_size = (128,128),\n",
    "    batch_size = 32\n",
    ")\n",
    "test_set = tf.keras.utils.image_dataset_from_directory(\n",
    "    data_dir,\n",
    "    validation_split = 0.2,\n",
    "    subset = 'validation',\n",
    "    seed =123,\n",
    "    image_size = (128,128),\n",
    "    batch_size = 32\n",
    ")"
   ]
  },
  {
   "cell_type": "code",
   "execution_count": 4,
   "id": "4f52f9c2-8509-44c2-b615-4f79208f2967",
   "metadata": {},
   "outputs": [
    {
     "name": "stderr",
     "output_type": "stream",
     "text": [
      "C:\\Python 320\\Lib\\site-packages\\keras\\src\\layers\\preprocessing\\tf_data_layer.py:19: UserWarning: Do not pass an `input_shape`/`input_dim` argument to a layer. When using Sequential models, prefer using an `Input(shape)` object as the first layer in the model instead.\n",
      "  super().__init__(**kwargs)\n"
     ]
    }
   ],
   "source": [
    "model = Sequential()\n",
    "model.add(Rescaling(1/255.0,input_shape = (128,128,3)))\n",
    "model.add(Conv2D(32,kernel_size=(3,3),activation = 'relu'))\n",
    "model.add(MaxPooling2D(pool_size=(2,2)))\n",
    "model.add(Conv2D(64,kernel_size=(3,3),activation = 'relu'))\n",
    "model.add(MaxPooling2D(pool_size=(2,2)))\n",
    "model.add(Flatten())\n",
    "model.add(Dense(128,activation = 'relu'))\n",
    "model.add(Dense(15,activation = 'softmax'))"
   ]
  },
  {
   "cell_type": "code",
   "execution_count": 5,
   "id": "82ca0a77-abe5-4497-856a-b46a169e44b0",
   "metadata": {},
   "outputs": [],
   "source": [
    "model.compile(optimizer = 'adam',loss = 'sparse_categorical_crossentropy', metrics = ['accuracy'])"
   ]
  },
  {
   "cell_type": "code",
   "execution_count": null,
   "id": "179a4266-167e-488d-a76c-c7d99acc591b",
   "metadata": {},
   "outputs": [
    {
     "name": "stdout",
     "output_type": "stream",
     "text": [
      "Epoch 1/5\n",
      "\u001b[1m517/517\u001b[0m \u001b[32m━━━━━━━━━━━━━━━━━━━━\u001b[0m\u001b[37m\u001b[0m \u001b[1m415s\u001b[0m 797ms/step - accuracy: 0.4792 - loss: 1.6764 - val_accuracy: 0.7888 - val_loss: 0.6138\n",
      "Epoch 2/5\n",
      "\u001b[1m152/517\u001b[0m \u001b[32m━━━━━\u001b[0m\u001b[37m━━━━━━━━━━━━━━━\u001b[0m \u001b[1m4:03\u001b[0m 666ms/step - accuracy: 0.8171 - loss: 0.5507"
     ]
    }
   ],
   "source": [
    "model.fit(train_set, epochs = 5,validation_data = test_set)"
   ]
  },
  {
   "cell_type": "code",
   "execution_count": null,
   "id": "cbb9aae2-ce40-4446-a57a-159d4eaf49e1",
   "metadata": {},
   "outputs": [],
   "source": [
    "import numpy as np\n",
    "import tensorflow as tf\n",
    "from tensorflow.keras import Sequential\n",
    "from tensorflow.keras.layers import Conv2D, MaxPooling2D, Dropout, Dense, Rescaling, Flatten\n",
    "from tensorflow.keras.optimizers import Adam, RMSprop, SGD  # Import other optimizers\n",
    "\n",
    "data_dir = 'PlantVillage-20250503T083021Z-001/PlantVillage'\n",
    "train_set = tf.keras.utils.image_dataset_from_directory(\n",
    "    data_dir,\n",
    "    validation_split=0.2,\n",
    "    subset='training',\n",
    "    seed=123,\n",
    "    image_size=(128, 128),\n",
    "    batch_size=32\n",
    ")\n",
    "test_set = tf.keras.utils.image_dataset_from_directory(\n",
    "    data_dir,\n",
    "    validation_split=0.2,\n",
    "    subset='validation',\n",
    "    seed=123,\n",
    "    image_size=(128, 128),\n",
    "    batch_size=32\n",
    ")\n",
    "\n",
    "# --- Experimenting with Hyperparameters ---\n",
    "\n",
    "# Experiment 1: Change the learning rate\n",
    "learning_rate = 0.0001\n",
    "optimizer = Adam(learning_rate=learning_rate)\n",
    "\n",
    "model1 = Sequential([\n",
    "    Rescaling(1/255.0, input_shape=(128, 128, 3)),\n",
    "    Conv2D(32, kernel_size=(3, 3), activation='relu'),\n",
    "    MaxPooling2D(pool_size=(2, 2)),\n",
    "    Conv2D(64, kernel_size=(3, 3), activation='relu'),\n",
    "    MaxPooling2D(pool_size=(2, 2)),\n",
    "    Flatten(),\n",
    "    Dense(128, activation='relu'),\n",
    "    Dense(len(train_set.class_names), activation='softmax') # Use the number of classes dynamically\n",
    "])\n",
    "model1.compile(optimizer=optimizer, loss='sparse_categorical_crossentropy', metrics=['accuracy'])\n",
    "print(\"\\nTraining model with learning rate:\", learning_rate)\n",
    "history1 = model1.fit(train_set, epochs=5, validation_data=test_set)\n",
    "\n",
    "# Experiment 2: Add a Dropout layer and change the optimizer\n",
    "dropout_rate = 0.3\n",
    "optimizer = RMSprop()\n",
    "\n",
    "model2 = Sequential([\n",
    "    Rescaling(1/255.0, input_shape=(128, 128, 3)),\n",
    "    Conv2D(32, kernel_size=(3, 3), activation='relu'),\n",
    "    MaxPooling2D(pool_size=(2, 2)),\n",
    "    Conv2D(64, kernel_size=(3, 3), activation='relu'),\n",
    "    MaxPooling2D(pool_size=(2, 2)),\n",
    "    Flatten(),\n",
    "    Dense(128, activation='relu'),\n",
    "    Dropout(dropout_rate),\n",
    "    Dense(len(train_set.class_names), activation='softmax') # Use the number of classes dynamically\n",
    "])\n",
    "model2.compile(optimizer=optimizer, loss='sparse_categorical_crossentropy', metrics=['accuracy'])\n",
    "print(\"\\nTraining model with Dropout and RMSprop:\")\n",
    "history2 = model2.fit(train_set, epochs=5, validation_data=test_set)\n",
    "\n",
    "# You would continue this process, systematically changing hyperparameters\n",
    "# and observing the impact on the validation accuracy."
   ]
  },
  {
   "cell_type": "code",
   "execution_count": null,
   "id": "03fb8de5-51d6-44f9-a6d1-86a2539620c4",
   "metadata": {},
   "outputs": [],
   "source": []
  }
 ],
 "metadata": {
  "kernelspec": {
   "display_name": "Python 3 (ipykernel)",
   "language": "python",
   "name": "python3"
  },
  "language_info": {
   "codemirror_mode": {
    "name": "ipython",
    "version": 3
   },
   "file_extension": ".py",
   "mimetype": "text/x-python",
   "name": "python",
   "nbconvert_exporter": "python",
   "pygments_lexer": "ipython3",
   "version": "3.12.2"
  }
 },
 "nbformat": 4,
 "nbformat_minor": 5
}
